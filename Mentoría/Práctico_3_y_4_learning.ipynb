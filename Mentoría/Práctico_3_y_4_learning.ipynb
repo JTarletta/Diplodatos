{
 "cells": [
  {
   "cell_type": "markdown",
   "metadata": {
    "colab_type": "text",
    "id": "m1_V_W6a_Rof"
   },
   "source": [
    "<center>\n",
    "<h4>Universidad Nacional de Córdoba - Facultad de Matemática, Astronomía, Física y Computación</h4>\n",
    "<h3>Diplomatura en Ciencia de Datos, Aprendizaje Automático y sus Aplicaciones</h3>\n",
    "</center>"
   ]
  },
  {
   "cell_type": "markdown",
   "metadata": {
    "colab_type": "text",
    "id": "4Umlj669_Roh"
   },
   "source": [
    "<h3> Práctico 3 y 4 - Introducción al aprendizaje automático - Aprendizaje Supervisado - 2019 </h3>\n",
    "\n",
    "###### Integrante: \n",
    "* Tarletta Juan\n",
    "\n",
    "Trabajaremos con el mismo dataset utilizado en curación de datos (deben utilizar el dataset que se encuentra con los datos modificados o bien aplicar los mismos métodos del trabajo anterior para contar con datos válidos)\n",
    "\n",
    "El dataset cuenta con X features, siendo las más importantes\n",
    "\n",
    "* Componente: Indica a que componente pertenece la muestra\n",
    "* Horas Funcionamiento: Indica la cantidad de horas de funcionamiento del camión (sería como el kilometraje de los camiones)\n",
    "* Horas del Aceite: Representa la cantidad de horas de utilización del aceite (este dato es importante dado que a medida que, a mayor horas de uso del aceite, el mismo comienza a desgastarse)\n",
    "* Resultado: (El laboratorio indica si la muestra de aceite está Bien = 1, Regular=2, Mal=3)\n",
    "* St: Presencia de Hollin en el Aceite\n",
    "* Al:  Presencia de Aluminio en el Aceite\n",
    "* Fe\t Presencia de Hierro en el Aceite\n",
    "* Si  Presencia de Silicio en el Aceite\n",
    "* Na\t Presencia de Sodio en el Aceite\n",
    "\n",
    "\n",
    "NOTA: se modifica le dataset y se incluyen el feature\n",
    "* Fecha de Análisis: Indica cuando fué analizada la muestra por el laboratorio\n",
    "\n",
    "\n",
    "\n"
   ]
  },
  {
   "cell_type": "code",
   "execution_count": 1,
   "metadata": {
    "colab": {},
    "colab_type": "code",
    "id": "RpTIyVWf_Roj"
   },
   "outputs": [],
   "source": [
    "import matplotlib.pyplot as plt\n",
    "import numpy as np\n",
    "import pandas as pd\n",
    "import seaborn\n",
    "from IPython.display import display, Markdown"
   ]
  },
  {
   "cell_type": "code",
   "execution_count": 2,
   "metadata": {
    "colab": {},
    "colab_type": "code",
    "id": "UkEqfd1s_Ron"
   },
   "outputs": [
    {
     "data": {
      "text/plain": [
       "'0.9.0'"
      ]
     },
     "execution_count": 2,
     "metadata": {},
     "output_type": "execute_result"
    }
   ],
   "source": [
    "seaborn.__version__"
   ]
  },
  {
   "cell_type": "code",
   "execution_count": 3,
   "metadata": {},
   "outputs": [],
   "source": [
    "dataset = pd.read_csv('dataset_intro.csv')\n",
    "important_cols= ['Equipo', 'Componente','Resultado','Horas Funcionamiento','Horas del Aceite', 'St', 'Al', 'Fe', 'Si', 'Na' ]\n",
    "\n",
    "#dataset[important_cols]"
   ]
  },
  {
   "cell_type": "code",
   "execution_count": 4,
   "metadata": {},
   "outputs": [
    {
     "data": {
      "text/plain": [
       "Na    21432\n",
       "dtype: int64"
      ]
     },
     "execution_count": 4,
     "metadata": {},
     "output_type": "execute_result"
    }
   ],
   "source": [
    "dataset[['Na']].count()"
   ]
  },
  {
   "cell_type": "markdown",
   "metadata": {},
   "source": [
    "El objetivo del práctico es utilizar gridSearch para encontrar los mejores hiperparámetros y función de coste como lo vieron en la notebook Clase 3 - Metricas y validacion de resultados.ipynb\n",
    "\n",
    "Deben tomar los datos de un solo componente para que los parámetros seán comparables (seleccionar el componente para el que exista la mayor cantidad de muestras en el dataset)\n",
    "\n",
    "Evaluen diferentes funciones de coste y para cada uno de ellos diferentes hiperparámetros.\n",
    "\n",
    "Determinar cual es el mejor set de hiperparámetros para clasificar las muestras de aceite"
   ]
  },
  {
   "cell_type": "code",
   "execution_count": 5,
   "metadata": {},
   "outputs": [],
   "source": [
    "import numpy as np\n",
    "import matplotlib.pyplot as plt\n",
    "\n",
    "from ml.visualization import plot_confusion_matrix, plot_learning_curve\n",
    "from sklearn.datasets import load_wine\n",
    "from sklearn.linear_model import SGDClassifier\n",
    "from sklearn.metrics import accuracy_score, classification_report, confusion_matrix\n",
    "from sklearn.model_selection import GridSearchCV, train_test_split\n",
    "\n",
    "np.random.seed(1234)\n",
    "\n",
    "%matplotlib inline"
   ]
  },
  {
   "cell_type": "code",
   "execution_count": 6,
   "metadata": {},
   "outputs": [
    {
     "data": {
      "text/html": [
       "<div>\n",
       "<style scoped>\n",
       "    .dataframe tbody tr th:only-of-type {\n",
       "        vertical-align: middle;\n",
       "    }\n",
       "\n",
       "    .dataframe tbody tr th {\n",
       "        vertical-align: top;\n",
       "    }\n",
       "\n",
       "    .dataframe thead th {\n",
       "        text-align: right;\n",
       "    }\n",
       "</style>\n",
       "<table border=\"1\" class=\"dataframe\">\n",
       "  <thead>\n",
       "    <tr style=\"text-align: right;\">\n",
       "      <th></th>\n",
       "      <th>Componente</th>\n",
       "    </tr>\n",
       "  </thead>\n",
       "  <tbody>\n",
       "    <tr>\n",
       "      <th>0</th>\n",
       "      <td>Motor</td>\n",
       "    </tr>\n",
       "  </tbody>\n",
       "</table>\n",
       "</div>"
      ],
      "text/plain": [
       "  Componente\n",
       "0      Motor"
      ]
     },
     "metadata": {},
     "output_type": "display_data"
    }
   ],
   "source": [
    "#Obtenemos el componente con más apariciones\n",
    "compo = dataset[['Componente']].mode()\n",
    "display(compo)"
   ]
  },
  {
   "cell_type": "code",
   "execution_count": 7,
   "metadata": {},
   "outputs": [
    {
     "data": {
      "text/html": [
       "<div>\n",
       "<style scoped>\n",
       "    .dataframe tbody tr th:only-of-type {\n",
       "        vertical-align: middle;\n",
       "    }\n",
       "\n",
       "    .dataframe tbody tr th {\n",
       "        vertical-align: top;\n",
       "    }\n",
       "\n",
       "    .dataframe thead th {\n",
       "        text-align: right;\n",
       "    }\n",
       "</style>\n",
       "<table border=\"1\" class=\"dataframe\">\n",
       "  <thead>\n",
       "    <tr style=\"text-align: right;\">\n",
       "      <th></th>\n",
       "      <th>Unnamed: 0</th>\n",
       "      <th>Equipo</th>\n",
       "      <th>Componente</th>\n",
       "      <th>Id</th>\n",
       "      <th>Resultado</th>\n",
       "      <th>Horas Funcionamiento</th>\n",
       "      <th>Horas del Aceite</th>\n",
       "      <th>Fecha de Análisis</th>\n",
       "      <th>B</th>\n",
       "      <th>Nit</th>\n",
       "      <th>...</th>\n",
       "      <th>Zn</th>\n",
       "      <th>Ag</th>\n",
       "      <th>Ti</th>\n",
       "      <th>V40</th>\n",
       "      <th>V100</th>\n",
       "      <th>TBN</th>\n",
       "      <th>TAN</th>\n",
       "      <th>ISO14</th>\n",
       "      <th>ISO4</th>\n",
       "      <th>ISO6</th>\n",
       "    </tr>\n",
       "  </thead>\n",
       "  <tbody>\n",
       "    <tr>\n",
       "      <th>3</th>\n",
       "      <td>3</td>\n",
       "      <td>1355</td>\n",
       "      <td>Motor</td>\n",
       "      <td>76.084008</td>\n",
       "      <td>3.0</td>\n",
       "      <td>21950.0</td>\n",
       "      <td>409.0</td>\n",
       "      <td>2019-02-20</td>\n",
       "      <td>51.0</td>\n",
       "      <td>9.0</td>\n",
       "      <td>...</td>\n",
       "      <td>1089.0</td>\n",
       "      <td>0.0</td>\n",
       "      <td>0.0</td>\n",
       "      <td>NaN</td>\n",
       "      <td>13.7</td>\n",
       "      <td>9.1</td>\n",
       "      <td>NaN</td>\n",
       "      <td>NaN</td>\n",
       "      <td>NaN</td>\n",
       "      <td>NaN</td>\n",
       "    </tr>\n",
       "    <tr>\n",
       "      <th>12</th>\n",
       "      <td>12</td>\n",
       "      <td>1357</td>\n",
       "      <td>Motor</td>\n",
       "      <td>41.099310</td>\n",
       "      <td>1.0</td>\n",
       "      <td>27876.0</td>\n",
       "      <td>263.0</td>\n",
       "      <td>2017-11-05</td>\n",
       "      <td>NaN</td>\n",
       "      <td>6.0</td>\n",
       "      <td>...</td>\n",
       "      <td>1246.0</td>\n",
       "      <td>0.0</td>\n",
       "      <td>0.0</td>\n",
       "      <td>NaN</td>\n",
       "      <td>14.0</td>\n",
       "      <td>NaN</td>\n",
       "      <td>NaN</td>\n",
       "      <td>NaN</td>\n",
       "      <td>NaN</td>\n",
       "      <td>NaN</td>\n",
       "    </tr>\n",
       "    <tr>\n",
       "      <th>29</th>\n",
       "      <td>29</td>\n",
       "      <td>1356</td>\n",
       "      <td>Motor</td>\n",
       "      <td>82.751875</td>\n",
       "      <td>3.0</td>\n",
       "      <td>28295.0</td>\n",
       "      <td>NaN</td>\n",
       "      <td>2019-05-17</td>\n",
       "      <td>47.0</td>\n",
       "      <td>10.0</td>\n",
       "      <td>...</td>\n",
       "      <td>1122.0</td>\n",
       "      <td>0.0</td>\n",
       "      <td>0.0</td>\n",
       "      <td>NaN</td>\n",
       "      <td>14.2</td>\n",
       "      <td>10.4</td>\n",
       "      <td>NaN</td>\n",
       "      <td>NaN</td>\n",
       "      <td>NaN</td>\n",
       "      <td>NaN</td>\n",
       "    </tr>\n",
       "    <tr>\n",
       "      <th>49</th>\n",
       "      <td>49</td>\n",
       "      <td>1355</td>\n",
       "      <td>Motor</td>\n",
       "      <td>79.207921</td>\n",
       "      <td>3.0</td>\n",
       "      <td>22729.0</td>\n",
       "      <td>380.0</td>\n",
       "      <td>2019-04-03</td>\n",
       "      <td>100.0</td>\n",
       "      <td>6.0</td>\n",
       "      <td>...</td>\n",
       "      <td>1334.0</td>\n",
       "      <td>0.0</td>\n",
       "      <td>0.0</td>\n",
       "      <td>NaN</td>\n",
       "      <td>14.1</td>\n",
       "      <td>9.8</td>\n",
       "      <td>NaN</td>\n",
       "      <td>NaN</td>\n",
       "      <td>NaN</td>\n",
       "      <td>NaN</td>\n",
       "    </tr>\n",
       "    <tr>\n",
       "      <th>50</th>\n",
       "      <td>50</td>\n",
       "      <td>1355</td>\n",
       "      <td>Motor</td>\n",
       "      <td>82.456346</td>\n",
       "      <td>2.0</td>\n",
       "      <td>23153.0</td>\n",
       "      <td>424.0</td>\n",
       "      <td>2019-05-12</td>\n",
       "      <td>105.0</td>\n",
       "      <td>8.0</td>\n",
       "      <td>...</td>\n",
       "      <td>1331.0</td>\n",
       "      <td>0.0</td>\n",
       "      <td>0.0</td>\n",
       "      <td>NaN</td>\n",
       "      <td>14.3</td>\n",
       "      <td>9.6</td>\n",
       "      <td>NaN</td>\n",
       "      <td>NaN</td>\n",
       "      <td>NaN</td>\n",
       "      <td>NaN</td>\n",
       "    </tr>\n",
       "  </tbody>\n",
       "</table>\n",
       "<p>5 rows × 45 columns</p>\n",
       "</div>"
      ],
      "text/plain": [
       "    Unnamed: 0  Equipo Componente         Id  Resultado  Horas Funcionamiento  \\\n",
       "3            3    1355      Motor  76.084008        3.0               21950.0   \n",
       "12          12    1357      Motor  41.099310        1.0               27876.0   \n",
       "29          29    1356      Motor  82.751875        3.0               28295.0   \n",
       "49          49    1355      Motor  79.207921        3.0               22729.0   \n",
       "50          50    1355      Motor  82.456346        2.0               23153.0   \n",
       "\n",
       "    Horas del Aceite Fecha de Análisis      B   Nit  ...      Zn   Ag   Ti  \\\n",
       "3              409.0        2019-02-20   51.0   9.0  ...  1089.0  0.0  0.0   \n",
       "12             263.0        2017-11-05    NaN   6.0  ...  1246.0  0.0  0.0   \n",
       "29               NaN        2019-05-17   47.0  10.0  ...  1122.0  0.0  0.0   \n",
       "49             380.0        2019-04-03  100.0   6.0  ...  1334.0  0.0  0.0   \n",
       "50             424.0        2019-05-12  105.0   8.0  ...  1331.0  0.0  0.0   \n",
       "\n",
       "    V40  V100   TBN  TAN  ISO14  ISO4  ISO6  \n",
       "3   NaN  13.7   9.1  NaN    NaN   NaN   NaN  \n",
       "12  NaN  14.0   NaN  NaN    NaN   NaN   NaN  \n",
       "29  NaN  14.2  10.4  NaN    NaN   NaN   NaN  \n",
       "49  NaN  14.1   9.8  NaN    NaN   NaN   NaN  \n",
       "50  NaN  14.3   9.6  NaN    NaN   NaN   NaN  \n",
       "\n",
       "[5 rows x 45 columns]"
      ]
     },
     "execution_count": 7,
     "metadata": {},
     "output_type": "execute_result"
    }
   ],
   "source": [
    "#Redefinimos el dataset a utilizar, en este caso solo con el componente Motor\n",
    "dataset = dataset[dataset['Componente'] == 'Motor']\n",
    "dataset.head(5)"
   ]
  },
  {
   "cell_type": "code",
   "execution_count": 8,
   "metadata": {},
   "outputs": [
    {
     "data": {
      "text/plain": [
       "Index(['Unnamed: 0', 'Equipo', 'Componente', 'Id', 'Resultado',\n",
       "       'Horas Funcionamiento', 'Horas del Aceite', 'Fecha de Análisis', 'B',\n",
       "       'Nit', 'Oxi', 'Sul', 'St', 'V', 'Al', 'Cr', 'Cu', 'Fe', 'Pb', 'Mo',\n",
       "       'Ni', 'Sn', 'Si', 'K', 'Na', 'W', 'F', 'A', 'ISO', 'PQI', 'Ba', 'Ca',\n",
       "       'Mg', 'Mn', 'P', 'Zn', 'Ag', 'Ti', 'V40', 'V100', 'TBN', 'TAN', 'ISO14',\n",
       "       'ISO4', 'ISO6'],\n",
       "      dtype='object')"
      ]
     },
     "execution_count": 8,
     "metadata": {},
     "output_type": "execute_result"
    }
   ],
   "source": [
    "dataset.columns"
   ]
  },
  {
   "cell_type": "code",
   "execution_count": 9,
   "metadata": {},
   "outputs": [
    {
     "data": {
      "text/plain": [
       "(1982,)"
      ]
     },
     "execution_count": 9,
     "metadata": {},
     "output_type": "execute_result"
    }
   ],
   "source": [
    "#utilizamos los datos que estan completos\n",
    "dataset_reduce = dataset[['Horas Funcionamiento','Horas del Aceite','Sul', 'V', 'Cr','Cu','Pb','Mo','Ni','K','St','PQI','Al', 'Fe', 'Si','Ca','Na','Mg', 'Zn','V100','B','Oxi','P']].dropna()\n",
    "index_dataset_reduce = dataset_reduce.index.values.astype(int)\n",
    "index_dataset_reduce.shape"
   ]
  },
  {
   "cell_type": "code",
   "execution_count": 10,
   "metadata": {},
   "outputs": [
    {
     "name": "stderr",
     "output_type": "stream",
     "text": [
      "C:\\Users\\Juan\\Anaconda3\\envs\\diplodatos\\lib\\site-packages\\ipykernel_launcher.py:4: DeprecationWarning: \n",
      ".ix is deprecated. Please use\n",
      ".loc for label based indexing or\n",
      ".iloc for positional indexing\n",
      "\n",
      "See the documentation here:\n",
      "http://pandas.pydata.org/pandas-docs/stable/indexing.html#ix-indexer-is-deprecated\n",
      "  after removing the cwd from sys.path.\n"
     ]
    }
   ],
   "source": [
    "#Separamos entre Datos y objetivo \n",
    "\n",
    "X = dataset_reduce[['Horas Funcionamiento','Horas del Aceite', 'Sul', 'V', 'Cr','Cu','Pb','Mo','Ni','K','St','PQI','Al', 'Fe', 'Si','Ca','Na','Mg', 'Zn','V100','B','Oxi','P']]\n",
    "y = dataset[['Resultado']].ix[index_dataset_reduce]\n",
    "#display(X.shape,y.shape,X,y)\n"
   ]
  },
  {
   "cell_type": "code",
   "execution_count": 11,
   "metadata": {},
   "outputs": [
    {
     "data": {
      "text/plain": [
       "(1543, 509, 435)"
      ]
     },
     "execution_count": 11,
     "metadata": {},
     "output_type": "execute_result"
    }
   ],
   "source": [
    "#Vemos la cantidad total de cada resultado\n",
    "dataset[dataset['Resultado']==1.0].shape[0], dataset[dataset['Resultado']==2.0].shape[0], dataset[dataset['Resultado']==3.0].shape[0]"
   ]
  },
  {
   "cell_type": "code",
   "execution_count": 12,
   "metadata": {},
   "outputs": [
    {
     "data": {
      "text/plain": [
       "(1173, 488, 321)"
      ]
     },
     "execution_count": 12,
     "metadata": {},
     "output_type": "execute_result"
    }
   ],
   "source": [
    "#Vemos la cantidad de cada resultado luego del dropna\n",
    "y[y['Resultado']==1.0].shape[0],y[y['Resultado']==2.0].shape[0],y[y['Resultado']==3.0].shape[0]"
   ]
  },
  {
   "cell_type": "code",
   "execution_count": 13,
   "metadata": {},
   "outputs": [
    {
     "data": {
      "text/plain": [
       "(1446, 349, 218, 536, 139, 103)"
      ]
     },
     "execution_count": 13,
     "metadata": {},
     "output_type": "execute_result"
    }
   ],
   "source": [
    "#Separamos los datos en test y train\n",
    "X_train, X_test, y_train, y_test = train_test_split(X, y, test_size=0.27)\n",
    "\n",
    "#Vemos como queda la distribucion de objetivos\n",
    "y_train[y_train==1.0].shape[0],y_train[y_train['Resultado']==2.0].shape[0],y_train[y_train['Resultado']==3.0].shape[0],y_test[y_test==1.0].shape[0],y_test[y_test['Resultado']==2.0].shape[0],y_test[y_test['Resultado']==3.0].shape[0]"
   ]
  },
  {
   "cell_type": "code",
   "execution_count": 14,
   "metadata": {},
   "outputs": [
    {
     "name": "stderr",
     "output_type": "stream",
     "text": [
      "C:\\Users\\Juan\\Anaconda3\\envs\\diplodatos\\lib\\site-packages\\sklearn\\model_selection\\_search.py:841: DeprecationWarning: The default of the `iid` parameter will change from True to False in version 0.22 and will be removed in 0.24. This will change numeric results when test-set sizes are unequal.\n",
      "  DeprecationWarning)\n",
      "C:\\Users\\Juan\\Anaconda3\\envs\\diplodatos\\lib\\site-packages\\sklearn\\metrics\\classification.py:1143: UndefinedMetricWarning: Precision and F-score are ill-defined and being set to 0.0 in labels with no predicted samples.\n",
      "  'precision', 'predicted', average, warn_for)\n",
      "C:\\Users\\Juan\\Anaconda3\\envs\\diplodatos\\lib\\site-packages\\sklearn\\metrics\\classification.py:1143: UndefinedMetricWarning: Precision and F-score are ill-defined and being set to 0.0 in labels with no predicted samples.\n",
      "  'precision', 'predicted', average, warn_for)\n",
      "C:\\Users\\Juan\\Anaconda3\\envs\\diplodatos\\lib\\site-packages\\sklearn\\metrics\\classification.py:1143: UndefinedMetricWarning: Precision and F-score are ill-defined and being set to 0.0 in labels with no predicted samples.\n",
      "  'precision', 'predicted', average, warn_for)\n"
     ]
    },
    {
     "name": "stdout",
     "output_type": "stream",
     "text": [
      "# Exploración de hiperparámetros para función de coste \"hinge\"\n",
      "\n",
      "Mejor conjunto de parámetros:\n",
      "{'alpha': 0.1, 'eta0': 0.001, 'learning_rate': 'constant'}\n",
      "\n",
      "Puntajes de la grilla:\n",
      "\n",
      "Exactitud: 0.362 (+/-0.046) para los parámetros {'alpha': 0.1, 'eta0': 0.1, 'learning_rate': 'constant'}\n",
      "Exactitud: 0.467 (+/-0.040) para los parámetros {'alpha': 0.1, 'eta0': 0.01, 'learning_rate': 'constant'}\n",
      "Exactitud: 0.546 (+/-0.016) para los parámetros {'alpha': 0.1, 'eta0': 0.001, 'learning_rate': 'constant'}\n",
      "Exactitud: 0.371 (+/-0.042) para los parámetros {'alpha': 0.01, 'eta0': 0.1, 'learning_rate': 'constant'}\n",
      "Exactitud: 0.421 (+/-0.043) para los parámetros {'alpha': 0.01, 'eta0': 0.01, 'learning_rate': 'constant'}\n",
      "Exactitud: 0.448 (+/-0.032) para los parámetros {'alpha': 0.01, 'eta0': 0.001, 'learning_rate': 'constant'}\n",
      "Exactitud: 0.450 (+/-0.032) para los parámetros {'alpha': 0.001, 'eta0': 0.1, 'learning_rate': 'constant'}\n",
      "Exactitud: 0.335 (+/-0.033) para los parámetros {'alpha': 0.001, 'eta0': 0.01, 'learning_rate': 'constant'}\n",
      "Exactitud: 0.387 (+/-0.039) para los parámetros {'alpha': 0.001, 'eta0': 0.001, 'learning_rate': 'constant'}\n",
      "\n",
      "Reporte de clasificación para el mejor clasificador (sobre conjunto de evaluación):\n",
      "\n",
      "              precision    recall  f1-score   support\n",
      "\n",
      "         1.0       0.00      0.00      0.00       294\n",
      "         2.0       0.00      0.00      0.00       139\n",
      "         3.0       0.19      0.98      0.32       103\n",
      "\n",
      "   micro avg       0.19      0.19      0.19       536\n",
      "   macro avg       0.06      0.33      0.11       536\n",
      "weighted avg       0.04      0.19      0.06       536\n",
      "\n",
      "\n",
      "================================================\n",
      "\n"
     ]
    },
    {
     "name": "stderr",
     "output_type": "stream",
     "text": [
      "C:\\Users\\Juan\\Anaconda3\\envs\\diplodatos\\lib\\site-packages\\sklearn\\model_selection\\_search.py:841: DeprecationWarning: The default of the `iid` parameter will change from True to False in version 0.22 and will be removed in 0.24. This will change numeric results when test-set sizes are unequal.\n",
      "  DeprecationWarning)\n",
      "C:\\Users\\Juan\\Anaconda3\\envs\\diplodatos\\lib\\site-packages\\sklearn\\metrics\\classification.py:1143: UndefinedMetricWarning: Precision and F-score are ill-defined and being set to 0.0 in labels with no predicted samples.\n",
      "  'precision', 'predicted', average, warn_for)\n",
      "C:\\Users\\Juan\\Anaconda3\\envs\\diplodatos\\lib\\site-packages\\sklearn\\metrics\\classification.py:1143: UndefinedMetricWarning: Precision and F-score are ill-defined and being set to 0.0 in labels with no predicted samples.\n",
      "  'precision', 'predicted', average, warn_for)\n",
      "C:\\Users\\Juan\\Anaconda3\\envs\\diplodatos\\lib\\site-packages\\sklearn\\metrics\\classification.py:1143: UndefinedMetricWarning: Precision and F-score are ill-defined and being set to 0.0 in labels with no predicted samples.\n",
      "  'precision', 'predicted', average, warn_for)\n"
     ]
    },
    {
     "name": "stdout",
     "output_type": "stream",
     "text": [
      "# Exploración de hiperparámetros para función de coste \"log\"\n",
      "\n",
      "Mejor conjunto de parámetros:\n",
      "{'alpha': 0.1, 'eta0': 0.01, 'learning_rate': 'constant'}\n",
      "\n",
      "Puntajes de la grilla:\n",
      "\n",
      "Exactitud: 0.490 (+/-0.035) para los parámetros {'alpha': 0.1, 'eta0': 0.1, 'learning_rate': 'constant'}\n",
      "Exactitud: 0.552 (+/-0.016) para los parámetros {'alpha': 0.1, 'eta0': 0.01, 'learning_rate': 'constant'}\n",
      "Exactitud: 0.418 (+/-0.045) para los parámetros {'alpha': 0.1, 'eta0': 0.001, 'learning_rate': 'constant'}\n",
      "Exactitud: 0.437 (+/-0.039) para los parámetros {'alpha': 0.01, 'eta0': 0.1, 'learning_rate': 'constant'}\n",
      "Exactitud: 0.389 (+/-0.039) para los parámetros {'alpha': 0.01, 'eta0': 0.01, 'learning_rate': 'constant'}\n",
      "Exactitud: 0.444 (+/-0.031) para los parámetros {'alpha': 0.01, 'eta0': 0.001, 'learning_rate': 'constant'}\n",
      "Exactitud: 0.371 (+/-0.042) para los parámetros {'alpha': 0.001, 'eta0': 0.1, 'learning_rate': 'constant'}\n",
      "Exactitud: 0.504 (+/-0.028) para los parámetros {'alpha': 0.001, 'eta0': 0.01, 'learning_rate': 'constant'}\n",
      "Exactitud: 0.323 (+/-0.029) para los parámetros {'alpha': 0.001, 'eta0': 0.001, 'learning_rate': 'constant'}\n",
      "\n",
      "Reporte de clasificación para el mejor clasificador (sobre conjunto de evaluación):\n",
      "\n",
      "              precision    recall  f1-score   support\n",
      "\n",
      "         1.0       0.00      0.00      0.00       294\n",
      "         2.0       0.00      0.00      0.00       139\n",
      "         3.0       0.19      1.00      0.32       103\n",
      "\n",
      "   micro avg       0.19      0.19      0.19       536\n",
      "   macro avg       0.06      0.33      0.11       536\n",
      "weighted avg       0.04      0.19      0.06       536\n",
      "\n",
      "\n",
      "================================================\n",
      "\n"
     ]
    },
    {
     "name": "stderr",
     "output_type": "stream",
     "text": [
      "C:\\Users\\Juan\\Anaconda3\\envs\\diplodatos\\lib\\site-packages\\sklearn\\model_selection\\_search.py:841: DeprecationWarning: The default of the `iid` parameter will change from True to False in version 0.22 and will be removed in 0.24. This will change numeric results when test-set sizes are unequal.\n",
      "  DeprecationWarning)\n",
      "C:\\Users\\Juan\\Anaconda3\\envs\\diplodatos\\lib\\site-packages\\sklearn\\metrics\\classification.py:1143: UndefinedMetricWarning: Precision and F-score are ill-defined and being set to 0.0 in labels with no predicted samples.\n",
      "  'precision', 'predicted', average, warn_for)\n",
      "C:\\Users\\Juan\\Anaconda3\\envs\\diplodatos\\lib\\site-packages\\sklearn\\metrics\\classification.py:1143: UndefinedMetricWarning: Precision and F-score are ill-defined and being set to 0.0 in labels with no predicted samples.\n",
      "  'precision', 'predicted', average, warn_for)\n",
      "C:\\Users\\Juan\\Anaconda3\\envs\\diplodatos\\lib\\site-packages\\sklearn\\metrics\\classification.py:1143: UndefinedMetricWarning: Precision and F-score are ill-defined and being set to 0.0 in labels with no predicted samples.\n",
      "  'precision', 'predicted', average, warn_for)\n"
     ]
    },
    {
     "name": "stdout",
     "output_type": "stream",
     "text": [
      "# Exploración de hiperparámetros para función de coste \"perceptron\"\n",
      "\n",
      "Mejor conjunto de parámetros:\n",
      "{'alpha': 0.001, 'eta0': 0.01, 'learning_rate': 'constant'}\n",
      "\n",
      "Puntajes de la grilla:\n",
      "\n",
      "Exactitud: 0.498 (+/-0.026) para los parámetros {'alpha': 0.1, 'eta0': 0.1, 'learning_rate': 'constant'}\n",
      "Exactitud: 0.482 (+/-0.033) para los parámetros {'alpha': 0.1, 'eta0': 0.01, 'learning_rate': 'constant'}\n",
      "Exactitud: 0.487 (+/-0.034) para los parámetros {'alpha': 0.1, 'eta0': 0.001, 'learning_rate': 'constant'}\n",
      "Exactitud: 0.355 (+/-0.046) para los parámetros {'alpha': 0.01, 'eta0': 0.1, 'learning_rate': 'constant'}\n",
      "Exactitud: 0.421 (+/-0.044) para los parámetros {'alpha': 0.01, 'eta0': 0.01, 'learning_rate': 'constant'}\n",
      "Exactitud: 0.490 (+/-0.025) para los parámetros {'alpha': 0.01, 'eta0': 0.001, 'learning_rate': 'constant'}\n",
      "Exactitud: 0.494 (+/-0.026) para los parámetros {'alpha': 0.001, 'eta0': 0.1, 'learning_rate': 'constant'}\n",
      "Exactitud: 0.611 (+/-0.000) para los parámetros {'alpha': 0.001, 'eta0': 0.01, 'learning_rate': 'constant'}\n",
      "Exactitud: 0.424 (+/-0.044) para los parámetros {'alpha': 0.001, 'eta0': 0.001, 'learning_rate': 'constant'}\n",
      "\n",
      "Reporte de clasificación para el mejor clasificador (sobre conjunto de evaluación):\n",
      "\n",
      "              precision    recall  f1-score   support\n",
      "\n",
      "         1.0       0.00      0.00      0.00       294\n",
      "         2.0       0.00      0.00      0.00       139\n",
      "         3.0       0.19      1.00      0.32       103\n",
      "\n",
      "   micro avg       0.19      0.19      0.19       536\n",
      "   macro avg       0.06      0.33      0.11       536\n",
      "weighted avg       0.04      0.19      0.06       536\n",
      "\n",
      "\n",
      "================================================\n",
      "\n"
     ]
    },
    {
     "data": {
      "image/png": "[encoded data removed]",
      "text/plain": [
       "<Figure size 1120x320 with 6 Axes>"
      ]
     },
     "metadata": {},
     "output_type": "display_data"
    }
   ],
   "source": [
    "#Realizamos las iteraciones como en el práctico de intro al aprendizaje\n",
    "plt.figure(figsize=(14, 4), dpi= 80, facecolor='w', edgecolor='k')\n",
    "\n",
    "for idx, loss in enumerate(('hinge', 'log', 'perceptron'), start=1):\n",
    "    exploring_params = {\n",
    "        'learning_rate': ['constant'],\n",
    "        'eta0': [0.1, 0.01, 0.001],  # Tasa de entrenamiento\n",
    "        'alpha': [0.1, 0.01, 0.001]  # Tasa de regularización\n",
    "    }\n",
    "    m = SGDClassifier(loss=loss, tol=1e-3)\n",
    "    model = GridSearchCV(m, exploring_params, cv=7, scoring='accuracy')\n",
    "    model.fit(X_train, y_train.values.ravel())\n",
    "    \n",
    "    print(\"# Exploración de hiperparámetros para función de coste \\\"%s\\\"\" % loss, end=\"\\n\\n\")\n",
    "    \n",
    "    print(\"Mejor conjunto de parámetros:\")\n",
    "    print(model.best_params_, end=\"\\n\\n\")\n",
    "\n",
    "    print(\"Puntajes de la grilla:\", end=\"\\n\\n\")\n",
    "    means = model.cv_results_['mean_test_score']\n",
    "    stds = model.cv_results_['std_test_score']\n",
    "    for mean, std, params in zip(means, stds, model.cv_results_['params']):\n",
    "        print(\"Exactitud: %0.3f (+/-%0.03f) para los parámetros %r\" % (mean, std ** 2, params))\n",
    "    print()\n",
    "\n",
    "    print(\"Reporte de clasificación para el mejor clasificador (sobre conjunto de evaluación):\", end=\"\\n\\n\")\n",
    "    y_true, y_pred = y_test, model.predict(X_test)\n",
    "    print(classification_report(y_true, y_pred), end=\"\\n\\n\")\n",
    "    \n",
    "    print(\"================================================\", end=\"\\n\\n\")\n",
    "\n",
    "    plt.subplot(1, 3, idx)\n",
    "    plot_confusion_matrix(confusion_matrix(y_true, y_pred),\n",
    "                          classes=['Bueno','Regular','Malo'], title=\"Matriz de confusión para %s\" % loss)"
   ]
  },
  {
   "cell_type": "markdown",
   "metadata": {},
   "source": [
    "*A continuación realizaremos predicciones en base a lo que hemos visto de Aprendizaje Supervisado e intentaremos mejorar el pronóstico*"
   ]
  },
  {
   "cell_type": "code",
   "execution_count": 15,
   "metadata": {},
   "outputs": [
    {
     "name": "stdout",
     "output_type": "stream",
     "text": [
      "# Exploración de hiperparámetros para función de medida \"gini\"\n",
      "\n",
      "Mejor conjunto de parámetros:\n",
      "{'max_depth': 15, 'n_estimators': 200}\n",
      "\n",
      "Puntajes de la grilla:\n",
      "\n",
      "Exactitud: 0.846 (+/-0.001) para los parámetros {'max_depth': 10, 'n_estimators': 100}\n",
      "Exactitud: 0.842 (+/-0.001) para los parámetros {'max_depth': 10, 'n_estimators': 200}\n",
      "Exactitud: 0.840 (+/-0.001) para los parámetros {'max_depth': 10, 'n_estimators': 300}\n",
      "Exactitud: 0.844 (+/-0.001) para los parámetros {'max_depth': 15, 'n_estimators': 100}\n",
      "Exactitud: 0.848 (+/-0.001) para los parámetros {'max_depth': 15, 'n_estimators': 200}\n",
      "Exactitud: 0.843 (+/-0.001) para los parámetros {'max_depth': 15, 'n_estimators': 300}\n",
      "Exactitud: 0.839 (+/-0.001) para los parámetros {'max_depth': 20, 'n_estimators': 100}\n",
      "Exactitud: 0.840 (+/-0.001) para los parámetros {'max_depth': 20, 'n_estimators': 200}\n",
      "Exactitud: 0.846 (+/-0.001) para los parámetros {'max_depth': 20, 'n_estimators': 300}\n",
      "\n",
      "Reporte de clasificación para el mejor clasificador (sobre conjunto de evaluación):\n",
      "\n",
      "              precision    recall  f1-score   support\n",
      "\n",
      "         1.0       0.84      0.95      0.89       294\n",
      "         2.0       0.70      0.58      0.64       139\n",
      "         3.0       0.91      0.81      0.86       103\n",
      "\n",
      "   micro avg       0.82      0.82      0.82       536\n",
      "   macro avg       0.82      0.78      0.79       536\n",
      "weighted avg       0.82      0.82      0.82       536\n",
      "\n",
      "\n",
      "================================================\n",
      "\n",
      "# Exploración de hiperparámetros para función de medida \"entropy\"\n",
      "\n",
      "Mejor conjunto de parámetros:\n",
      "{'max_depth': 20, 'n_estimators': 200}\n",
      "\n",
      "Puntajes de la grilla:\n",
      "\n",
      "Exactitud: 0.840 (+/-0.001) para los parámetros {'max_depth': 10, 'n_estimators': 100}\n",
      "Exactitud: 0.833 (+/-0.001) para los parámetros {'max_depth': 10, 'n_estimators': 200}\n",
      "Exactitud: 0.840 (+/-0.001) para los parámetros {'max_depth': 10, 'n_estimators': 300}\n",
      "Exactitud: 0.840 (+/-0.001) para los parámetros {'max_depth': 15, 'n_estimators': 100}\n",
      "Exactitud: 0.842 (+/-0.001) para los parámetros {'max_depth': 15, 'n_estimators': 200}\n",
      "Exactitud: 0.846 (+/-0.001) para los parámetros {'max_depth': 15, 'n_estimators': 300}\n",
      "Exactitud: 0.844 (+/-0.001) para los parámetros {'max_depth': 20, 'n_estimators': 100}\n",
      "Exactitud: 0.849 (+/-0.001) para los parámetros {'max_depth': 20, 'n_estimators': 200}\n",
      "Exactitud: 0.844 (+/-0.001) para los parámetros {'max_depth': 20, 'n_estimators': 300}\n",
      "\n",
      "Reporte de clasificación para el mejor clasificador (sobre conjunto de evaluación):\n",
      "\n",
      "              precision    recall  f1-score   support\n",
      "\n",
      "         1.0       0.83      0.95      0.89       294\n",
      "         2.0       0.70      0.55      0.62       139\n",
      "         3.0       0.91      0.82      0.86       103\n",
      "\n",
      "   micro avg       0.82      0.82      0.82       536\n",
      "   macro avg       0.82      0.77      0.79       536\n",
      "weighted avg       0.81      0.82      0.81       536\n",
      "\n",
      "\n",
      "================================================\n",
      "\n"
     ]
    },
    {
     "data": {
      "image/png": "[encoded data removed]",
      "text/plain": [
       "<Figure size 1120x320 with 4 Axes>"
      ]
     },
     "metadata": {},
     "output_type": "display_data"
    }
   ],
   "source": [
    "#Realizamos las iteraciones como en el práctico de intro pero utilizando un modelo de ensamble\n",
    "from sklearn.ensemble import RandomForestClassifier as RFC\n",
    "\n",
    "\n",
    "plt.figure(figsize=(14, 4), dpi= 80, facecolor='w', edgecolor='k')\n",
    "\n",
    "for idx, criterion in enumerate(('gini', 'entropy'), start=1):\n",
    "    exploring_params = {\n",
    "        'n_estimators': [100,200,300], #Cantidad de arboles\n",
    "        'max_depth': [10,15,20],  # Profundidad del arbol\n",
    "    }\n",
    "    m = RFC(criterion=criterion)\n",
    "    model = GridSearchCV(m, exploring_params, cv=7, scoring='accuracy')\n",
    "    model.fit(X_train, y_train.values.ravel())\n",
    "    \n",
    "    print(\"# Exploración de hiperparámetros para función de medida \\\"%s\\\"\" % criterion, end=\"\\n\\n\")\n",
    "    \n",
    "    print(\"Mejor conjunto de parámetros:\")\n",
    "    print(model.best_params_, end=\"\\n\\n\")\n",
    "\n",
    "    print(\"Puntajes de la grilla:\", end=\"\\n\\n\")\n",
    "    means = model.cv_results_['mean_test_score']\n",
    "    stds = model.cv_results_['std_test_score']\n",
    "    for mean, std, params in zip(means, stds, model.cv_results_['params']):\n",
    "        print(\"Exactitud: %0.3f (+/-%0.03f) para los parámetros %r\" % (mean, std ** 2, params))\n",
    "    print()\n",
    "\n",
    "    print(\"Reporte de clasificación para el mejor clasificador (sobre conjunto de evaluación):\", end=\"\\n\\n\")\n",
    "    y_true, y_pred = y_test, model.predict(X_test)\n",
    "    print(classification_report(y_true, y_pred), end=\"\\n\\n\")\n",
    "    \n",
    "    print(\"================================================\", end=\"\\n\\n\")\n",
    "\n",
    "    plt.subplot(1, 3, idx)\n",
    "    plot_confusion_matrix(confusion_matrix(y_true, y_pred),\n",
    "                          classes=['Bueno','Regular','Malo'], title=\"Matriz de confusión para %s\" % criterion)"
   ]
  },
  {
   "cell_type": "markdown",
   "metadata": {},
   "source": [
    "*Podemos observar que mejoramos las predicciónes enormemente*"
   ]
  }
 ],
 "metadata": {
  "colab": {
   "collapsed_sections": [],
   "name": "Práctico 2 curación.ipynb",
   "provenance": [],
   "version": "0.3.2"
  },
  "kernelspec": {
   "display_name": "Python 3",
   "language": "python",
   "name": "python3"
  },
  "language_info": {
   "codemirror_mode": {
    "name": "ipython",
    "version": 3
   },
   "file_extension": ".py",
   "mimetype": "text/x-python",
   "name": "python",
   "nbconvert_exporter": "python",
   "pygments_lexer": "ipython3",
   "version": "3.6.8"
  }
 },
 "nbformat": 4,
 "nbformat_minor": 1
}
